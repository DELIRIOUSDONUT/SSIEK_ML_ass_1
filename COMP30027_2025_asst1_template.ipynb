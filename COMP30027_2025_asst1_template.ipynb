{
 "cells": [
  {
   "cell_type": "markdown",
   "metadata": {},
   "source": [
    "##### ### The University of Melbourne, School of Computing and Information Systems\n",
    "# COMP30027 Machine Learning, 2025 Semester 1\n",
    "\n",
    "## Assignment 1: Scam detection with naive Bayes\n"
   ]
  },
  {
   "cell_type": "markdown",
   "metadata": {},
   "source": [
    "**Student ID(s):**     `1409447`\n"
   ]
  },
  {
   "cell_type": "markdown",
   "metadata": {},
   "source": [
    "This iPython notebook is a template which you will use for your Assignment 1 submission.\n",
    "\n",
    "**NOTE: YOU SHOULD ADD YOUR RESULTS, GRAPHS, AND FIGURES FROM YOUR OBSERVATIONS IN THIS FILE TO YOUR REPORT (the PDF file).** Results, figures, etc. which appear in this file but are NOT included in your report will not be marked.\n",
    "\n",
    "**Adding proper comments to your code is MANDATORY. **"
   ]
  },
  {
   "cell_type": "markdown",
   "metadata": {},
   "source": [
    "## 1. Supervised model training\n"
   ]
  },
  {
   "cell_type": "code",
   "execution_count": 52,
   "metadata": {},
   "outputs": [
    {
     "name": "stdout",
     "output_type": "stream",
     "text": [
      "[0 1]\n",
      "(1995, 2007)\n",
      "2006\n"
     ]
    }
   ],
   "source": [
    "import pandas as pd\n",
    "from sklearn.feature_extraction.text import CountVectorizer\n",
    "\n",
    "# Load data from sms_supervised_train.csv\n",
    "supervised_df = pd.read_csv('COMP30027_2025_asst1_data/sms_supervised_train.csv')\n",
    "\n",
    "# Drop instances with missing values in both 'textPreprocessed' and 'class' columns\n",
    "supervised_df = supervised_df.dropna(subset=['textPreprocessed', 'class'])\n",
    "\n",
    "# Reset index after dropping rows (to ensure indices align correctly) -- or else indices mess up and NaN vals appear\n",
    "supervised_df.reset_index(drop=True, inplace=True)\n",
    "\n",
    "# Vectorize as a bag-of-words model -- ignore multiple spaces\n",
    "v = CountVectorizer(token_pattern=r'[^\\s]+')\n",
    "\n",
    "# Transform the text data into bag-of-words\n",
    "x = v.fit_transform(supervised_df['textPreprocessed'])\n",
    "\n",
    "# Get all unique words\n",
    "words = v.get_feature_names_out()\n",
    "\n",
    "# Generate dataframe using the bag-of-word vectors\n",
    "word_df = pd.DataFrame(x.toarray(), columns=words)\n",
    "\n",
    "# Reset the index of word_df in case it has been modified during vectorization\n",
    "word_df.reset_index(drop=True, inplace=True)\n",
    "\n",
    "# Align the class labels\n",
    "word_df['ScamClassLabel'] = supervised_df['class'].values\n",
    "\n",
    "# Check the unique values in 'ScamClassLabel'\n",
    "print(word_df['ScamClassLabel'].unique()) # SHOULD BE [0 1]\n",
    "\n",
    "print(word_df.shape) # SHOULD BE (1995, 2007 (2006 + class label))\n",
    "print(len(words))"
   ]
  },
  {
   "cell_type": "code",
   "execution_count": 53,
   "metadata": {},
   "outputs": [
    {
     "name": "stdout",
     "output_type": "stream",
     "text": [
      "1995\n",
      "0.7994987468671679\n",
      "0.20050125313283207\n"
     ]
    }
   ],
   "source": [
    "# 3 : Calculate the prior probability for each class (scam=1, not scam=0), which is N_c / N\n",
    "\n",
    "N = word_df.shape[0]\n",
    "\n",
    "# Prior probability for non-malicious,ScamClassLabel = 0\n",
    "word_df[word_df[\"ScamClassLabel\"] == 0].head(10)\n",
    "\n",
    "N_non_malicious = word_df[word_df[\"ScamClassLabel\"] == 0].shape[0]\n",
    "\n",
    "# Prior probability for malicious, ScamClassLabel = 1\n",
    "word_df[word_df[\"ScamClassLabel\"] == 1].head(10)\n",
    "\n",
    "N_scam = word_df[word_df[\"ScamClassLabel\"] == 1].shape[0]\n",
    "\n",
    "assert(N_scam + N_non_malicious == N)\n",
    "\n",
    "# Prior for non-malicious\n",
    "prior_non_malicious = N_non_malicious / N\n",
    "\n",
    "# Prior for scam\n",
    "prior_scam = N_scam / N\n",
    "\n",
    "# Part 1, Q1\n",
    "print(prior_non_malicious)\n",
    "print(prior_scam)"
   ]
  },
  {
   "cell_type": "code",
   "execution_count": 54,
   "metadata": {},
   "outputs": [
    {
     "name": "stdout",
     "output_type": "stream",
     "text": [
      "Top 10 malicious words are: [('.', 0.056527883465594106), ('!', 0.024350472877486685), (',', 0.023480813131862177), ('call', 0.0205457114903794), ('£', 0.013914555929992392), ('free', 0.010544624415697363), ('/', 0.009131427329057508), ('2', 0.008805304924448316), ('&', 0.008696597456245245), ('?', 0.008479182519839116)]\n",
      "Top 10 non-malicious words are: [('.', 0.07933042212518195), (',', 0.026032919046019464), ('?', 0.025585040868883666), ('u', 0.018922852983988353), ('...', 0.018754898667562414), ('!', 0.017187325047587045), ('..', 0.014947934161907959), (';', 0.01315642145336468), ('&', 0.013100436681222707), ('go', 0.011140969656253495)]\n"
     ]
    }
   ],
   "source": [
    "# 4 \n",
    "\n",
    "# Steps: for two dataframes (scam and non-malicious), do:\n",
    "    # Get total count for each word (column sum)\n",
    "    # Get total count of all words (table sum)\n",
    "    # Create a dictionary to store (word : probability)\n",
    "    # with probability = column sum / table sum\n",
    "    \n",
    "    # TODO : decide on Laplace smoothing params and ensure sum of probs = 1\n",
    "    \n",
    "from sklearn.naive_bayes import MultinomialNB\n",
    "import numpy as np\n",
    "\n",
    "\n",
    "# Get counts for all features except class label\n",
    "word_counts = word_df.drop('ScamClassLabel', axis=1) \n",
    "\n",
    "scam_label = word_df['ScamClassLabel']\n",
    "\n",
    "model = MultinomialNB() # Uses laplace smoothing with alpha = 1 by default\n",
    "model.fit(word_counts, scam_label)\n",
    "\n",
    "scam_log_probs = model.feature_log_prob_[1]\n",
    "scam_probs = [np.exp(prob) for prob in scam_log_probs]\n",
    "\n",
    "assert(abs(sum(scam_probs) - 1) < 0.000001)\n",
    "# Now, associate each probability to the matching word. Note: feature_log_prob returns probabilities in the same order\n",
    "scam_word_probs = list(zip(words, scam_probs)) \n",
    "# Then, sort by probability in descending order\n",
    "scam_word_probs.sort(key=lambda x: x[1], reverse=True)\n",
    "\n",
    "# Part 1 Q2\n",
    "print(f'Top 10 malicious words are: {scam_word_probs[:10]}')\n",
    "\n",
    "# Similar process here for non-malicious words\n",
    "non_scam_log_probs = model.feature_log_prob_[0]\n",
    "non_scam_probs = [np.exp(prob) for prob in non_scam_log_probs]\n",
    "assert(abs(sum(non_scam_probs) - 1) < 0.000001)\n",
    "# Now, associate each probability to the matching word. Note: feature_log_prob returns probabilities in the same order\n",
    "non_scam_word_probs = list(zip(words, non_scam_probs)) \n",
    "# Then, sort by probability in descending order\n",
    "non_scam_word_probs.sort(key=lambda x: x[1], reverse=True)\n",
    "\n",
    "# Part 1 Q2\n",
    "print(f'Top 10 non-malicious words are: {non_scam_word_probs[:10]}')\n",
    "\n",
    "\n"
   ]
  },
  {
   "cell_type": "code",
   "execution_count": 55,
   "metadata": {},
   "outputs": [
    {
     "name": "stdout",
     "output_type": "stream",
     "text": [
      "Top 10 words likely to be scam than non-scam: [('prize', 99.0283726492011), ('tone', 64.07718230242419), ('£', 49.708359604304874), ('select', 46.601587129035785), ('claim', 45.954342863354775), ('paytm', 36.89292314382), ('code', 34.95119034677684), ('award', 32.03859115121209), ('won', 31.06772475269054), ('18', 29.125991955647386)]\n",
      "Top 10 words likely to be non-scam than scam: [(';', 60.51296047475082), ('...', 57.508770947635554), ('gt', 54.07541148807519), ('lt', 53.56040756914115), (':)', 47.89536446086663), ('ü', 31.93024297391108), ('lor', 28.840219460306788), ('ok', 24.720188108834375), ('hope', 24.720188108834375), ('d', 21.115160676296036)]\n"
     ]
    }
   ],
   "source": [
    "# Part 1 Q3\n",
    "\n",
    "# Convert each list into dicts, with word:prob\n",
    "# Create R score dict FOR scam/nonscam and nonscam/scam\n",
    "# For each, word : probc1/probc2, c1 and c2 are the classes\n",
    "\n",
    "\n",
    "scam_prob_dict = dict(scam_word_probs)\n",
    "non_scam_prob_dict = dict(non_scam_word_probs)\n",
    "\n",
    "R_scam = {word: scam_prob_dict[word]/non_scam_prob_dict[word] for word in scam_prob_dict.keys()}\n",
    "R_non_scam = {word: non_scam_prob_dict[word]/scam_prob_dict[word] for word in non_scam_prob_dict.keys()}\n",
    "\n",
    "# Convert back to list and sort by R score -- note that these are probability ratios, not probabilities\n",
    "R_scam_scores = sorted(list(R_scam.items()), key=lambda x: x[1], reverse=True)\n",
    "print(f\"Top 10 words likely to be scam than non-scam: {R_scam_scores[:10]}\")\n",
    "\n",
    "R_non_scam_scores = sorted(list(R_non_scam.items()), key=lambda x: x[1], reverse=True)\n",
    "print(f\"Top 10 words likely to be non-scam than scam: {R_non_scam_scores[:10]}\")\n"
   ]
  },
  {
   "cell_type": "markdown",
   "metadata": {},
   "source": [
    "## 2. Supervised model evaluation"
   ]
  },
  {
   "cell_type": "code",
   "execution_count": 56,
   "metadata": {},
   "outputs": [
    {
     "name": "stdout",
     "output_type": "stream",
     "text": [
      "97.50%\n"
     ]
    }
   ],
   "source": [
    "from sklearn.metrics import accuracy_score\n",
    "\n",
    "# Load data from sms_test.csv\n",
    "test_df = pd.read_csv('COMP30027_2025_asst1_data/sms_test.csv')\n",
    "test_df.head(10)\n",
    "\n",
    "# Similar to part 1, initialize word matrix BUT dont need to add class labels -- same order\n",
    "test_data = pd.DataFrame(columns=words)\n",
    "\n",
    "# Store out-of-vocab word counts\n",
    "oov_count = {}\n",
    "# Generate the word matrix using those words\n",
    "for i in range(len(test_df[\"textPreprocessed\"])):\n",
    "    # Generate the word vector\n",
    "    line = test_df[\"textPreprocessed\"][i]\n",
    "    \n",
    "    # Initialize an empty row for this instance\n",
    "    test_data.loc[i] = [0] * len(test_data.columns)\n",
    "    \n",
    "    # Iterate over each word in the line. For each word, update occurence in word vector\n",
    "    for word in str(line).split(\" \"):\n",
    "        if word in words:  # Only if this word was trained on\n",
    "            test_data.loc[i][word] += 1\n",
    "        else:\n",
    "            # Log the out-of-vocabulary words\n",
    "            if word not in oov_count:\n",
    "                oov_count[word] = 0\n",
    "            oov_count[word] += 1\n",
    "\n",
    "\n",
    "pred = model.predict(test_data)\n",
    "print(f\"{accuracy_score(test_df['class'], pred) * 100:.2f}%\")"
   ]
  },
  {
   "cell_type": "code",
   "execution_count": 57,
   "metadata": {},
   "outputs": [
    {
     "data": {
      "image/png": "[encoded data removed]",
      "text/plain": [
       "<Figure size 640x480 with 2 Axes>"
      ]
     },
     "metadata": {},
     "output_type": "display_data"
    },
    {
     "name": "stdout",
     "output_type": "stream",
     "text": [
      "Precision : 92.68%\n",
      "Recall : 95.00%\n",
      "Number of OOV words skipped is 179\n"
     ]
    }
   ],
   "source": [
    "# Now to plot confusion matrix, show recall and precision\n",
    "from sklearn.metrics import confusion_matrix, precision_score, recall_score\n",
    "import seaborn as sns\n",
    "import matplotlib.pyplot as plt\n",
    "\n",
    "# Use sklearn to get confusion matrix values from predictor\n",
    "conf_matrix = confusion_matrix(test_df['class'], pred)\n",
    "\n",
    "# Plot using seaborn\n",
    "sns.heatmap(conf_matrix, annot=True, fmt='d', cmap='Blues', xticklabels=['0 = Non-malicious', '1 = Scam'], \n",
    "            yticklabels=['0 = Non-malicious', '1 = Scam'])\n",
    "plt.xlabel('Predicted')\n",
    "plt.ylabel('Actual')\n",
    "\n",
    "plt.show()\n",
    "\n",
    "print(f\"Precision : {precision_score(test_df['class'], pred) * 100:.2f}%\")\n",
    "print(f\"Recall : {recall_score(test_df['class'], pred) * 100:.2f}%\")\n",
    "\n",
    "\n",
    "\n",
    "# Part 2 Q2\n",
    "\n",
    "print(f\"Number of OOV words skipped is {sum(oov_count.values())}\")\n",
    "# Quite many words were skipped\n",
    "\n"
   ]
  },
  {
   "cell_type": "code",
   "execution_count": 58,
   "metadata": {},
   "outputs": [
    {
     "name": "stdout",
     "output_type": "stream",
     "text": [
      "[0 1]\n",
      "[[9.99802906e-01 1.97094426e-04]\n",
      " [9.99999405e-01 5.94851453e-07]\n",
      " [9.99914145e-01 8.58549033e-05]\n",
      " [9.99999967e-01 3.30104973e-08]\n",
      " [3.27228433e-08 9.99999967e-01]\n",
      " [1.00000000e+00 6.62774452e-14]\n",
      " [8.54892539e-01 1.45107461e-01]\n",
      " [9.93768132e-01 6.23186845e-03]\n",
      " [9.99443233e-01 5.56766595e-04]\n",
      " [9.99999933e-01 6.71365781e-08]]\n",
      "Top 5 most confident to be scams as classified by model\n",
      "[ [ 'REAL: Urgent -call 09066649731from Landline. Your complimentary 4* Ibiza '\n",
      "    'Holiday or £10,000 cash await collection SAE T&Cs PO BOX 434 SK3 8WP '\n",
      "    '150ppm 18+',\n",
      "    'PREP: . 4 + call £ - * holiday & urgent 18 t landline 150ppm cash cs '\n",
      "    'await collection po box sae complimentary 10,000 ibiza'],\n",
      "  [ 'REAL: Urgent! call 09066612661 from landline. Your complementary 4* '\n",
      "    'Tenerife Holiday or £10,000 cash await collection SAE T&Cs PO Box 3 WA14 '\n",
      "    '2PX 150ppm 18+ Sender: Hol Offer',\n",
      "    'PREP: . 3 4 + ! call : £ offer * holiday & urgent 18 t landline 150ppm '\n",
      "    'cash cs await collection po box sae tenerife 10,000'],\n",
      "  [ 'REAL: Thanks for your ringtone order, reference number X49. Your mobile '\n",
      "    'will be charged 4.50. Should your tone not arrive please call customer '\n",
      "    'services 09065989182. From: [colour=red]text[/colour]TXTstar',\n",
      "    'PREP: . . . , please order text call / : customer tone number [ [ service '\n",
      "    'mobile ] ] colour colour thanks ringtone reference charge 4.50 arrive = '\n",
      "    'red x49 09065989182'],\n",
      "  [ 'REAL: You have WON a guaranteed £1000 cash or a £2000 prize. To claim yr '\n",
      "    'prize call our customer service representative on 08714712394 between '\n",
      "    '10am-7pm',\n",
      "    'PREP: . call £ £ guarantee won customer prize prize claim service 1000 yr '\n",
      "    '2000 representative cash 10am-7pm'],\n",
      "  [ 'REAL: 1st wk FREE! Gr8 tones str8 2 u each wk. Txt NOKIA ON to 8007 for '\n",
      "    'Classic Nokia tones or HIT ON to 8007 for Polys. Nokia/150p Poly/200p 16+',\n",
      "    'PREP: . . 2 free u + ! 1st / / wk wk txt tone gr8 hit 150p 16 poly 8007 '\n",
      "    '8007 nokia nokia nokia tones polys']]\n",
      "Top 5 most confident to be non-scams as classified by model\n",
      "[ [ 'REAL: NEFT Transaction with reference number  &lt;#&gt;  for Rs. '\n",
      "    '&lt;DECIMAL&gt;  has been credited to the beneficiary account on  '\n",
      "    '&lt;#&gt;  at  &lt;TIME&gt; : &lt;#&gt;',\n",
      "    'PREP: time : rs. transaction number & & & & & & & & & & ; ; ; ; ; ; ; ; ; '\n",
      "    '; lt lt lt lt lt # # # gt gt gt gt gt credit account reference decimal'],\n",
      "  [ 'REAL: Wen u lift d phne, u say \"HELLO\" Do u knw wt is d real meaning of '\n",
      "    \"HELLO?? . . . It's d name of a girl..! . . . Yes.. And u knw who is dat \"\n",
      "    'girl?? \"Margaret Hello\" She is d girlfrnd f Grahmbell who invnted '\n",
      "    'telphone... . . . . Moral:One can 4get d name of a person, bt not his '\n",
      "    'girlfrnd... G o o d n i g h t . . .@',\n",
      "    'PREP: ? ? ? ? .. .. u u u u , , ... ... ... ... say person yes ! f : '\n",
      "    'hello hello hello o o wen knw knw girl girl mean @ \" \" \" \" t name name g '\n",
      "    'g n d d d d d d lift bt real dat h girlfrnd girlfrnd moral'],\n",
      "  [ 'REAL: Its a big difference.  &lt;#&gt;  versus  &lt;#&gt;  every  '\n",
      "    '&lt;#&gt; hrs',\n",
      "    'PREP: . every & & & & & & ; ; ; ; ; ; lt lt lt # # # gt gt gt big hr'],\n",
      "  [ 'REAL: A gram usually runs like  &lt;#&gt; , a half eighth is smarter '\n",
      "    'though and gets you almost a whole second gram for  &lt;#&gt;',\n",
      "    'PREP: , get like second half & & & & ; ; ; ; lt lt # # gt gt run though '\n",
      "    'almost whole gram gram usually'],\n",
      "  [ 'REAL: Mon okie lor... Haha, best is cheap n gd food la, ex oso okie... '\n",
      "    'Depends on whether wana eat western or chinese food... Den which u '\n",
      "    'prefer... ',\n",
      "    'PREP: u , , lor ... ... ... ... food food eat den oso haha well depend '\n",
      "    'mon n la wana okie okie cheap chinese gd ex']]\n",
      "Boundary instances\n",
      "R-non-scam = 1.014610876635793, R-scam = 0.9855995269001656\n",
      "REAL: Dear where you. Call me\n",
      "PREP: . call dear\n",
      "\n",
      "R-non-scam = 1.04155915313761, R-scam = 0.9600990946962383\n",
      "REAL: Glad to see your reply.\n",
      "PREP: . reply glad\n",
      "\n",
      "R-non-scam = 0.9244995577093805, R-scam = 1.0816662827591674\n",
      "REAL: ALRITE SAM ITS NIC JUST CHECKIN THAT THIS IS UR NUMBER-SO IS IT?T.B*\n",
      "PREP: ? ur * just alrite sam\n",
      "\n",
      "R-non-scam = 0.9281244079933972, R-scam = 1.0774417646897119\n",
      "REAL: I've told him that i've returned it. That should i re order it.\n",
      "PREP: . . tell return re order\n",
      "\n"
     ]
    }
   ],
   "source": [
    "# Part 2 Q3\n",
    "from pprint import pprint\n",
    "# First get predicted class probabilities for each instance\n",
    "predicted_probs = model.predict_proba(test_data)\n",
    "print(model.classes_)\n",
    "print(predicted_probs[:10])\n",
    "\n",
    "instance_probs = []  # First element is instance, second is prob of 0(nonscam), third is prob of 1(scam)\n",
    "instance_confidence = [] # First element is instance, second is confidence for non-malicious, third for scam, fourth is original text\n",
    "for i in range(len(predicted_probs)):\n",
    "    instance = test_df['textPreprocessed'].loc[i]\n",
    "    instance_probs.append([instance, *(predicted_probs[i].tolist())])\n",
    "    real_text = test_df['textOriginal'].loc[i]\n",
    "    \n",
    "    # index 0 = prob of non scam, 1 = prob of scam, both given the test instance\n",
    "    non_scam_confidence = predicted_probs[i][0] / predicted_probs[i][1]\n",
    "    scam_confidence = predicted_probs[i][1] / predicted_probs[i][0]\n",
    "    \n",
    "    instance_confidence.append([instance, non_scam_confidence, scam_confidence, real_text])\n",
    "    \n",
    "\n",
    "# A : classified scam with high confidence -- element 3\n",
    "print(\"Top 5 most confident to be scams as classified by model\")\n",
    "pprint([[f\"REAL: {instance[3]}\", f\"PREP: {instance[0]}\"] for instance in sorted(instance_confidence, key=lambda x: x[2], reverse=True)[:5]], compact=False, indent=2)\n",
    "\n",
    "print(\"Top 5 most confident to be non-scams as classified by model\")\n",
    "# B : classified non-malicious with high confidence -- element 2\n",
    "pprint([[f\"REAL: {instance[3]}\", f\"PREP: {instance[0]}\"] for instance in sorted(instance_confidence, key=lambda x: x[1], reverse=True)[:5]], compact=False, indent=2)\n",
    "\n",
    "# C : on the boundary, R near 1.\n",
    "bound_width = 0.25\n",
    "print(\"Boundary instances\")\n",
    "for i in instance_confidence:\n",
    "    # If R score for scam and nonscam are similar, theyre close to 1\n",
    "    if abs(i[1] - i[2]) < bound_width:\n",
    "        print(f\"R-non-scam = {i[1]}, R-scam = {i[2]}\")\n",
    "        print(f\"REAL: {i[3]}\")\n",
    "        print(f\"PREP: {i[0]}\")\n",
    "        print()"
   ]
  },
  {
   "cell_type": "markdown",
   "metadata": {},
   "source": [
    "## 3. Extending the model with semi-supervised training"
   ]
  },
  {
   "cell_type": "code",
   "execution_count": null,
   "metadata": {},
   "outputs": [],
   "source": []
  },
  {
   "cell_type": "markdown",
   "metadata": {},
   "source": [
    "## 4. Supervised model evaluation"
   ]
  },
  {
   "cell_type": "code",
   "execution_count": null,
   "metadata": {
    "collapsed": true
   },
   "outputs": [],
   "source": []
  }
 ],
 "metadata": {
  "kernelspec": {
   "display_name": "Python 3 (ipykernel)",
   "language": "python",
   "name": "python3"
  },
  "language_info": {
   "codemirror_mode": {
    "name": "ipython",
    "version": 3
   },
   "file_extension": ".py",
   "mimetype": "text/x-python",
   "name": "python",
   "nbconvert_exporter": "python",
   "pygments_lexer": "ipython3",
   "version": "3.9.13"
  }
 },
 "nbformat": 4,
 "nbformat_minor": 4
}

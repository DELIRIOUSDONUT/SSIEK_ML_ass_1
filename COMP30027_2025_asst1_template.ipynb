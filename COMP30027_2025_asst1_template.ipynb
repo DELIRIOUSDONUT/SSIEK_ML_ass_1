{
 "cells": [
  {
   "cell_type": "markdown",
   "metadata": {},
   "source": [
    "##### ### The University of Melbourne, School of Computing and Information Systems\n",
    "# COMP30027 Machine Learning, 2025 Semester 1\n",
    "\n",
    "## Assignment 1: Scam detection with naive Bayes\n"
   ]
  },
  {
   "cell_type": "markdown",
   "metadata": {},
   "source": [
    "**Student ID(s):**     `1409447`\n"
   ]
  },
  {
   "cell_type": "markdown",
   "metadata": {},
   "source": [
    "This iPython notebook is a template which you will use for your Assignment 1 submission.\n",
    "\n",
    "**NOTE: YOU SHOULD ADD YOUR RESULTS, GRAPHS, AND FIGURES FROM YOUR OBSERVATIONS IN THIS FILE TO YOUR REPORT (the PDF file).** Results, figures, etc. which appear in this file but are NOT included in your report will not be marked.\n",
    "\n",
    "**Adding proper comments to your code is MANDATORY. **"
   ]
  },
  {
   "cell_type": "markdown",
   "metadata": {},
   "source": [
    "## 1. Supervised model training\n"
   ]
  },
  {
   "cell_type": "code",
   "execution_count": 16,
   "metadata": {},
   "outputs": [
    {
     "name": "stdout",
     "output_type": "stream",
     "text": [
      "{'?': 533, 'u': 396, 'workin': 2, '.': 1935, '..': 278, 'sir': 16, ',': 679, 'send': 102, 'email': 14, 'log': 10, 'payment': 4, 'll': 12, 'another': 15, 'message': 52, 'explain': 2, 'thing': 37, 'back': 59, 'home': 57, 'great': 51, 'weekend': 17, '2': 174, '4': 122, 'quite': 14, 'get': 222, 'ok': 96, 'lor': 55, 'anyway': 7, 'thk': 15, 'ticket': 10, 'co': 15, 'like': 86, 'late': 75, 'already': 28, 'wan': 17, 'go': 215, 'look': 34, 'ur': 151, 'frens': 5, 'darren': 7, 'wif': 11, '...': 336, 'wat': 33, 'r': 57, 'reason': 6, 'speak': 17, 'year': 34, 'anyways': 1, 'week': 62, 'good': 99, 'exam': 4, 'stop': 76, 'story': 6, 'tell': 69, 'return': 7, 'he': 6, \"'s\": 108, 'say': 32, 're': 13, 'order': 12, '(': 47, 'text': 93, 'time': 72, ')': 58, 'sch': 7, 'neva': 7, 'mind': 14, 'eat': 21, '1st': 20, 'reply': 75, '21': 3, '/': 93, 'f': 3, 'invite': 9, 'friend': 31, ':': 109, 'frnd': 5, '62468': 3, 'o': 4, 'turn': 1, 'love': 93, 'phone': 59, 'online': 14, 'transaction': 4, 'da': 38, 'ü': 61, 'noe': 8, 'aft': 7, 'pick': 38, '!': 529, 'call': 289, 'win': 51, '£': 131, 'won': 15, 'value': 17, 'vodafone': 8, 'customer': 69, 'computer': 9, '150': 12, 'prize': 50, 'collect': 14, 'easy': 11, 'just': 116, 'please': 77, 'award': 33, 'end': 28, '-': 87, '350': 10, 'todays': 9, 'voda': 3, 'number': 41, 'xxxx': 3, 'select': 23, 'receive': 31, 'match': 12, '08712300220': 4, 'quoting': 6, 'claim': 72, 'code': 17, '3100': 2, 'standard': 7, 'rate': 20, 'app': 5, 'think': 67, 'pix': 4, 'top': 14, '�': 64, 'apple': 9, 'id': 14, '[': 2, 'final': 12, 'due': 11, 'expire': 7, 'today': 70, 'prevent': 3, 'confirm': 8, 'inc': 4, 'meet': 41, 'work': 52, 'tel': 7, 'shall': 12, 'tomorrow': 27, 'matter': 5, 'every': 28, 'sleep': 27, '&': 312, ';': 235, 'day': 78, 'lt': 103, '#': 100, 'gt': 104, 'up': 86, 'know': 97, ':)': 92, 'anything': 22, 'right': 31, 'wake': 11, 'bad': 12, 'night': 35, 'dream': 4, 'tho': 8, 'comedy': 1, 'guess': 13, 'hard': 7, 'believe': 11, 'lie': 2, 'twice': 2, 'take': 72, ':-)': 25, 'wow': 6, 'common': 1, 'freak': 2, 'unless': 5, 'off': 22, 'hope': 47, 'howz': 3, 'pain': 10, 'fine': 30, 'girl': 16, 'office': 12, 'wonder': 10, 'why': 34, 'smile': 18, 'sore': 1, 'e': 15, 'msg': 50, 'die': 5, 'accidentally': 3, 'delete': 4, 'suppose': 4, 'put': 9, 'sim': 4, 'sad': 6, '3': 42, 'noida': 4, 'commercial': 1, 'silver': 4, '@': 5, 'psf': 3, 'gold': 3, 'deal': 4, '7': 12, 'leave': 36, 'part': 11, 'keep': 27, 'idiot': 2, 'roommate': 4, 'run': 21, 'full': 8, 'lady': 5, 'ready': 13, 'far': 6, 'never': 15, 'march': 6, 'sure': 23, 'problem': 16, 'complete': 9, 'find': 36, 'service': 44, 'contact': 45, 'dating': 6, 'someone': 21, 'land': 5, 'line': 15, 'own': 5, 'see': 20, 'bed': 8, 'ride': 3, 'c': 50, 'ya': 27, 'buzy': 2, 'don': 10, 't': 43, 'free': 121, 'yes': 37, 'bill': 6, '0870': 4, 'india': 12, 'cust': 4, 'sed': 4, 'got': 3, 'giv': 1, 'shit': 11, '250': 14, '800': 7, 'wait': 44, '5': 20, 'well': 55, 'yay': 2, 'class': 11, 'yo': 14, 'there': 6, 'try': 42, '\"': 105, 'personal': 2, 'thought': 5, 'always': 17, 'everybody': 1, 'happy': 33, 'nobody': 4, 'alone': 6, '750': 10, '2nd': 13, 'per': 27, 'pound': 10, 'u.': 10, '10p': 11, 'min.': 3, 'bt-national-rate': 2, 'fun': 14, '+': 45, 'new': 50, 'help': 29, 'enjoy': 15, 'jamster': 3, 'club': 5, 'credit': 14, 'logo': 6, '16': 23, 'immediately': 7, 'thank': 12, 'dear': 66, 'paytm': 18, 'kyc': 7, 'care': 38, 'account': 24, 'block': 9, '24': 6, 'hr.': 2, 'team': 8, 'arm': 2, 'uni': 3, 'step': 5, 'card': 19, 'tax': 3, 'm': 10, 's': 37, 'alert': 4, 'mobile': 59, 'battle': 2, 'click': 9, 'den': 11, 'oso': 5, 'k': 41, 'la': 2, 'wana': 3, 'bf': 3, 'rite': 9, 'mean': 21, 'hear': 20, 'cos': 14, 'xxx': 12, 'doin': 3, 'ring': 11, 'j': 1, 'takin': 1, 'urgent': 29, 'waiting': 6, 'game': 17, '>': 12, 'question': 9, 'ringtones': 3, 'aight': 14, 'bit': 20, 'january': 4, 'actually': 8, 'point': 11, 'whatever': 5, 'excuse': 4, 'tampa': 3, 'though': 13, 're-activate': 2, 'system': 6, 'upgrade': 4, 'atm': 7, 'de-activated': 2, 'kindly': 3, 'hey': 43, 'ask': 56, 'yup': 12, 'fri': 9, 'man': 18, 'woman': 4, 'series': 3, 'record': 8, 'month': 18, 'delivery': 13, 'half': 12, 'video': 17, 'anytime': 9, 'network': 15, 'min': 42, 'price': 10, 'rental': 6, '08000930705': 11, 'remember': 7, 'sometimes': 6, 'heart': 19, 'soon': 20, 'bcoz': 3, 'everyone': 6, 'one': 6, 'bslvyl': 3, 'give': 41, 'hmmm': 3, 'entitle': 5, 'update': 10, 'colour': 11, 'camera': 12, '08002986030': 1, '8': 7, 'still': 48, 'g': 6, 'txt': 71, '500': 14, '100': 17, 'congratulation': 10, 'cd': 6, 'gift': 13, 'voucher': 17, 'entry': 19, 'weekly': 12, 'draw': 23, 'music': 8, '87066': 6, 'tncs': 4, 'lab': 2, 'ill': 14, 'buy': 22, 'need': 53, 'meh': 2, 'babe': 26, 'lose': 13, 'si': 7, 'huh': 8, 'finish': 22, 'busy': 16, 'forward': 5, 'finally': 9, 'n': 46, 'lunch': 21, 'dad': 9, 'dunno': 13, '18': 14, 'comp': 7, 'word': 18, 'enter': 10, '84128': 4, '08712405020': 3, 'food': 10, 'let': 34, 'none': 5, 'indian': 5, 'version': 3, 'dinner': 15, 'tonight': 21, '86688': 5, '150p': 19, 'chat': 25, 'suite342/2lands': 3, 'row': 7, 'w1j6hl': 3, 'ldn': 4, \"'ve\": 8, 'xchat': 2, 'attempt': 16, 'name': 14, 'dollar': 2, 'transfer': 6, 'charity': 4, 'poor': 4, 'place': 26, 'rs.': 15, 'successfully': 5, 'inr': 8, 'balance': 4, 'sorry': 58, 'they': 2, \"'re\": 5, 'joke': 5, 'really': 33, 'book': 19, 'something': 28, 'kinda': 3, 'white': 3, 'current': 3, 'come': 94, 'stay': 17, 'way': 34, 'head': 5, 'hurt': 12, 'round': 4, 'chennai': 6, 'settle': 4, 'birthday': 8, 'hi': 55, 'world': 15, '....': 24, 'stuff': 14, 'make': 61, 'life': 35, 'happen': 16, 'cry': 2, 'everything': 13, 'else': 7, 'often': 2, 'winner': 13, '900': 4, 'reward': 6, 'yet': 13, 'first': 26, 'least': 5, 'rain': 5, 'big': 15, 'leh': 8, 'aiyah': 2, 'hello': 20, 'tomo': 5, 'saturday': 4, 'texting': 2, 'decide': 11, 'myself': 3, 'program': 2, 'package': 3, 'show': 23, 'last': 35, 'guaranteed': 10, 'valid': 5, '12hrs': 5, 'fl1pkart': 4, 'w0n': 4, '2,00,000': 5, '6299257179': 3, 'summer': 6, 'selection': 3, 'worth': 10, 'oh': 31, 'to': 35, 'god': 16, 'google': 3, 'down': 14, 'ah': 13, 'car': 19, 'job': 17, 'house': 11, 'parent': 8, 'hand': 12, 'y': 16, 'pa': 11, 'change': 10, 'address': 11, 'dun': 12, 'lar': 16, 'bus': 10, 'lect': 4, 'lesson': 7, 'gym': 3, 'person': 12, 'situation': 4, 'theory': 2, 'argument': 2, 'wins': 2, 'd': 40, 'argue': 2, 'inch': 4, 'set': 7, 'sms': 9, 'gud': 24, 'ni8': 8, 'tot': 6, 'early': 7, 'thinkin': 2, 'leu': 9, 'lovely': 6, 'start': 25, 'onwards': 2, 'again': 18, 'appt': 1, 'facebook': 4, 'search': 7, 'few': 17, 'walk': 11, 'around': 16, 'same': 15, 'upset': 3, 'listen': 7, 'mad': 2, 'goin': 6, 'that': 14, 'yeah': 32, 'me': 2, 'chance': 21, 'once': 10, 'enough': 13, 'cool': 16, 'drop': 4, 'tyler': 2, 'total': 5, 'disturb': 4, 'anymore': 2, 'tree': 3, '$': 13, '1000': 20, 'randomly': 3, 'surf': 4, 'lucky': 9, 'awake': 2, 'noon': 4, 'miss': 45, 'double': 11, 'coin': 3, 'caller': 8, '5,00,000': 10, 'v0daf0ne': 3, '7908807538': 2, 'tone': 32, 'freemsg': 7, 'xmas': 8, 'real': 14, 'player': 9, '0800': 6, 'welcome': 7, 'loan': 7, 'purpose': 1, '75,000': 1, 'homeowner': 1, 'tenant': 1, 'previously': 1, 'refuse': 3, 'hour': 18, 'thats': 14, 'alright': 8, 'baby': 12, 'fone': 8, 'internet': 5, 'eh': 5, 'uk': 9, 'two': 9, 'promo': 2, 'mr.': 1, 'tc': 5, 'practice': 2, 'wkly': 9, 'fa': 4, 'cup': 4, 'tkts': 3, '21st': 2, '87121': 3, 'nice': 20, 'okie': 6, 'mail': 17, 'st': 5, 'cream': 2, '2,000': 7, 'probably': 10, 'station': 5, 'morning': 17, 'friendship': 6, '7th': 2, '6th': 2, 'style': 3, '5th': 2, '4th': 4, 'personality': 2, '3rd': 2, 'nature': 2, '1': 40, 'membership': 3, 'pobox': 4, 'want': 23, 'yetunde': 1, 'surprise': 6, 'money': 18, 'mid': 4, 'honey': 4, 'ha': 3, 'jus': 9, 'ar': 6, 'sweet': 13, 'watch': 18, 'tv': 11, 'funny': 3, 'izzit': 1, 'add': 6, 'havent': 7, 'temple': 1, 'na': 2, 'p': 5, '*': 117, 'coffee': 3, 'afternoon': 10, 'move': 7, 'drink': 9, 'slave': 3, 'await': 10, 'ym': 3, 'tm': 5, 'smart': 3, 'long': 16, 'ago': 4, 'cuddle': 1, 'sofa': 3, 'drug': 4, 'may': 6, 'mom': 6, '8536074310': 8, 'cash': 37, 'play': 18, 'bin': 3, '50': 5, 'optout': 3, 'live': 28, 'fantasy': 5, '08707509020': 3, '20p': 4, 'ntt': 3, 'ltd': 8, 'hot': 8, 'po': 13, 'box': 14, '1327': 3, 'croydon': 3, 'cr9': 3, '5wb': 3, 'rs': 3, '300': 5, 'monthly': 2, '12': 4, 'member': 4, 'prob': 8, 'available': 11, 'old': 8, 'nothing': 17, 'valentine': 3, 'save': 9, 'boy': 16, 'hit': 5, \"'\": 79, 'fast': 9, 'secret': 10, 'bt': 12, 'frnds': 6, 'boost': 4, 'energy': 4, 'gal': 9, 'throw': 5, 'speed': 3, 'hell': 4, 'hw': 5, 'shout': 3, 'important': 11, 'consider': 3, 'wall': 4, 'high': 3, 'wish': 25, 'arrange': 2, 'years': 3, 'weather': 5, 'interview': 1, 'liao': 14, 'muz': 5, 'hop': 5, 'ard': 4, 'abt': 12, 'discuss': 3, 'friday': 7, 'wot': 2, 'h': 1, 'become': 2, 'mrng': 6, 'hav': 11, 'minute': 16, 'quit': 1, 'oops': 3, 'mu': 5, 'sort': 6, 'bring': 23, 'angry': 7, 'together': 12, 'moment': 5, 'spend': 10, '2000': 7, '150ppm': 9, '3030': 2, 'guarantee': 14, 'representative': 8, '10am-9pm': 3, 'yesterday': 12, 'collection': 11, 'er': 1, 'fill': 4, 'catch': 3, 'luck': 10, 'next': 29, 'answer': 6, '83600': 2, 'pm': 6, 'darling': 3, 'promise': 3, 'quiz': 7, 'q': 3, 'sunshine': 5, 'sony': 7, 'dvd': 3, 'country': 3, 'ansr': 2, '82277': 4, 'v': 14, 'etc': 5, 'special': 19, 'cinema': 3, 'pass': 5, 'congrats': 9, 'yours': 8, '150pm': 3, 'file': 3, 'pls': 39, 'abiola': 4, 'touch': 3, 'open': 4, 'kind': 5, 'link': 8, 'result': 3, 'intelligent': 2, 'ttyl': 3, 'allow': 1, 'outside': 6, 'pple': 2, 'derek': 3, 'yep': 5, 'sunday': 8, 'people': 13, 'town': 10, 'meeting': 13, 'detail': 14, '5000': 10, 'careful': 2, 'dare': 2, 'cum': 4, 'decimal': 8, 'ish': 1, 'til': 4, 'sport': 1, 'babes': 2, 'check': 18, 'wap': 4, 'tones': 2, 'content': 8, 'themob': 1, 'games': 3, 'fit': 2, 'anyone': 5, 'coz': 11, 'type': 4, 'iz': 4, 'asap': 4, 'ge': 2, 'w': 7, 'brother': 6, 'princess': 10, 'apply': 21, 'std': 3, 'thanks': 26, 'moji': 2, 'inform': 4, '530': 1, 'chosen': 2, 'reach': 14, 'opportunity': 2, 'talk': 17, 'mate': 7, 'we': 1, 'deliver': 5, 'even': 19, 'photo': 7, 'have': 10, \"n't\": 14, 'omg': 1, ':/': 2, 'she': 11, 'thru': 4, 'guy': 21, '\\\\': 1, 'naughty': 2, 'hold': 11, 'plz': 7, 'dat': 6, 'finger': 4, 'create': 4, 'gap': 5, 'vry': 3, 'park': 7, 'yun': 2, 'tech': 1, 'jordan': 4, 'lonely': 3, 'test': 10, 'earth': 3, 'bear': 2, 'gn': 2, 'tom': 1, 'chinese': 3, 'break': 6, 'amp': 22, 'getting': 3, 'safe': 6, 'crave': 4, 'ahmad': 2, 'al': 4, 'ever': 19, 'drive': 11, 'notice': 5, 'slow': 6, 'ringtone': 13, '=': 13, 'http': 4, 'true': 10, 'widelive.com/index': 1, 'wml': 1, '¡': 2, 'wk': 17, 'action': 3, 'custcare': 5, 'rock': 3, 'loving': 1, 'difficult': 5, 'wrong': 4, 'tear': 3, 'amazing': 4, 'quote': 2, 'truth': 6, 'txts': 10, 'mobileupd8': 6, 'mths': 1, 'cross': 1, 'ntwk': 1, '08001950382': 1, 'vote': 2, 'tooth': 2, 'reference': 4, 'charge': 24, '4.50': 3, 'arrive': 3, 'x49': 2, '09065989182': 2, 'read': 6, 'future': 8, 'plan': 18, '.....': 5, 'present': 4, 'begin': 3, 'registration': 3, 'rose': 2, 'red': 2, 'blood': 4, 'x': 24, 'cancel': 6, 'kate': 6, 'darlin': 8, 'sound': 10, 'understand': 6, 'egg': 3, 'bag': 2, 'upto': 2, '%': 9, '1.50': 9, 'pobox84': 4, 'activate': 6, 'cost': 20, 'bore': 8, 'feel': 38, 'piss': 1, 'cause': 6, 'pig': 2, 'diet': 5, 'hungry': 7, 'poly': 7, 'operator': 5, 'www.ringtones.co.uk': 1, 'original': 2, 'england': 5, 'lion': 1, 'mono': 2, 'list': 1, 'ryt': 1, 'nw': 3, 'mine': 7, 'wil': 8, 'luv': 15, 'load': 3, 'budget': 3, 'shirt': 2, 'doc': 4, 'abi': 2, 'access': 5, 'fix': 1, 'direct': 5, 'penny': 3, 'via': 7, 'company': 5, 'store': 7, 'fraud': 2, 'recently': 6, 'gbp': 3, 'nationwide': 3, 'debit': 2, 'urgently': 3, '443303800231': 2, 'bonus': 8, '09066362231': 2, '07xxxxxxxxx': 1, '02/06/03': 2, 'acc': 1, 'scream': 3, 'shower': 6, 'social': 3, 'yr': 12, 'ex': 6, 'comin': 4, 'daily': 2, 'water': 4, 'forget': 19, 'tat': 3, 'subpoly': 2, '81618': 2, 'sub': 5, 'week-stop': 2, 'sms-08718727870': 2, 'wit': 4, 'aunt': 2, 'party': 7, 'private': 7, 'movie': 9, 'haha': 15, 'aiyo': 2, '11mths': 1, 'bank': 13, 'suspend': 5, 'bday': 2, 'april': 2, 'nokia': 29, 'motorola': 7, 'call2optout': 1, 'sm': 13, 'discount': 8, 'road': 6, 'gurgaon': 2, 'rush': 4, 'school': 13, 'gone': 4, '10': 5, 'cine': 1, 'mrt': 2, 'sat': 1, 'bugis': 3, 'yan': 2, 'jiu': 2, 'frm': 6, 'sun': 6, 'hip': 2, 'lei': 1, 'five': 4, '08000776320': 1, 'stamp': 2, 'cover': 5, 'grand': 1, 'swing': 7, 'somebody': 2, 'door': 3, 'appreciate': 2, 'lead': 4, 'bid': 6, 'auction': 7, '08718726270': 1, 'heavy': 4, 'num': 3, 'i': 4, \"'m\": 1, 'citizen': 2, 'college': 5, 'visit': 7, 'medical': 4, 'nigeria': 3, 'less': 6, 'expensive': 3, 'perform': 3, 'pub': 4, 'unsub': 1, 'sp': 1, 'street': 4, 'moby': 2, 'cornwall': 2, '26th': 2, 'orange': 11, 'offer': 23, 'loyalty': 1, 'sister': 7, 'join': 11, 'dis': 10, 'train': 9, 'family': 7, 'pray': 4, 'against': 6, 'ts': 7, 'cs': 23, '40gb': 2, 'ipod': 4, 'pod': 3, 'www.textpod.net': 1, 'able': 12, 'thanx': 5, 'many': 18, 'south': 2, 'till': 8, 'seem': 6, 'sight': 5, 'remain': 5, 'pay': 17, 'haf': 4, 'mp3': 4, '83355': 1, 'prepare': 3, 'plus': 5, 'pic': 13, 'mob': 13, '8007': 7, 'halloween': 3, 'eerie': 3, 'spook': 5, 'info': 6, 'grin': 3, 'sea': 3, 'english': 2, 'bye': 1, 'whole': 2, 'suck': 4, 'cook': 4, 'learn': 3, 'truly': 3, 'blow': 4, 'ten': 5, 'bout': 6, 'worry': 9, '\\x92': 11, 'unique': 1, '11': 3, 'national': 4, 'wedding': 1, 'choose': 6, 'nan': 5, 'house-maid': 2, 'murderer': 3, 'murder': 3, 'govt.': 1, 'holiday': 25, 'post': 12, 'close': 6, 'include': 3, 'th': 6, 'king': 8, 'large': 2, 'super': 4, 'others': 4, 'couple': 4, 'weed': 5, 'blue': 2, 'rather': 2, 'lol': 30, '9': 6, 'little': 8, 'currently': 2, 'cash-balance': 2, 'maximize': 2, 'cash-in': 2, 'cc': 2, '08718720201': 3, 'urself': 2, 'laptop': 3, 'december': 1, '08002986906': 1, 'expect': 5, 'maybe': 11, '......': 4, 'net': 3, 'somewhere': 4, 'goodmorning': 8, 'sleeping': 2, 'sexy': 11, 'hair': 9, 'cut': 7, 'wun': 3, 'short': 5, 'follow': 10, 'pleased': 6, 'advise': 5, 'recent': 4, 'review': 5, 'hospital': 4, 'lot': 20, 'statement': 6, 'identifier': 5, 'expires': 5, '2004': 3, '786': 1, 'unredeemed': 1, 'fr': 4, 'xy': 6, 'mistake': 5, 'happend': 2, 'admirer': 7, 'reveal': 10, 'u-find': 5, 'special-call': 5, 'timing': 3, 'freephone': 3, '0808': 3, '145': 3, '9am-11pm': 3, 'campus': 2, 'random': 4, 'tmr': 6, 'cal': 4, 'mark': 3, 'bite': 4, 'b': 26, 'thurs': 2, 'horrible': 3, 'kid': 6, 'wife': 8, \"b'day\": 6, \"did'nt\": 3, 'colleagues': 2, 'season': 2, 'february': 1, 'away': 7, '_': 1, 'shop': 11, 'shopping': 6, 'centre': 4, 'project': 6, 'accept': 5, '85023': 6, 'savamob': 7, 'm263uz': 4, '3.00': 4, 'cuz': 2, 'evening': 8, 'course': 7, 'unsubscribe': 8, '@150p': 2, 'subscribe': 4, 'hunny': 1, 'gettin': 2, 'boo': 4, 'ure': 2, 'swt': 2, 'tease': 2, 'kiss': 13, 'simply': 3, 'www.getzed.co.uk': 2, 'no1': 4, 'txting': 4, '36504': 2, 'sometime': 4, 'paper': 1, 'student': 5, 'sheet': 2, 'issue': 8, 'space': 4, 'information': 10, 'protect': 3, 'sit': 10, 'single': 3, 'hate': 1, 'wont': 8, 'askin': 2, 'yourself': 11, 'past': 5, 'rent': 2, 'ahead': 2, 'jay': 5, '6': 13, 'room': 9, 'b4': 3, 'max': 2, 'sec': 3, 'sex': 3, '30': 4, 'zed': 3, 'adult': 2, 'shortly': 3, '|': 1, 'oni': 2, 'regard': 7, 'goto': 9, 'song': 5, 'opt': 8, 'onto': 4, 'nyt': 3, 'green': 2, 'express': 3, 'cartoon': 1, 'chase': 1, 'gd': 8, 'waitin': 2, 'treat': 6, 'decision': 2, '6200992462': 5, 'ph': 7, 'pay-tm': 3, '24hr': 3, 'refund': 1, 'landline': 11, 'six': 2, '87575': 3, 'hl': 3, 'letter': 1, 'directly': 4, 'polys': 2, 'children': 2, '25p': 2, 'moon': 1, '08701417012': 2, 'profit': 1, 'wonderful': 10, 'pizza': 4, 'ugh': 2, 'dry': 1, 'spell': 1, 'urgnt': 2, 'itself': 4, 'hug': 3, 'cake': 4, 'film': 6, 'tour': 1, 'yar': 2, '7679046492': 3, '7,00,000': 1, ':(': 5, 'wednesday': 3, 'sonyericsson': 1, '08000839402': 5, '1/2': 1, 'linerental': 1, 'sauna': 4, 'slim': 5, 'belt': 5, 'reduce': 4, 'simple': 3, 'nt': 7, 'chikku': 5, 'apparently': 2, '09065174042': 2, '07821230901': 2, 'awesome': 7, 'term': 5, 'trip': 6, 'wats': 3, 'wen': 7, 'wkend': 2, 'ad': 2, 'lookin': 2, '2mrw': 3, 'juz': 5, 'nope': 5, 'gay': 3, '08712460324': 4, 'upload': 3, '08718730666': 2, 'fact': 3, 'gr8': 6, 'kick': 2, 'yoga': 2, 'gee': 2, 'gentle': 4, 'child': 1, 'stone': 2, 'extra': 8, 'fat': 3, 'ncr': 2, 'serious': 3, 'digital': 2, 'sipix': 1, 'ice': 4, 'left': 6, 'voice': 3, 'hurry': 3, 'dey': 4, 'aftr': 2, 'askd': 4, 'wer': 3, 'plane': 3, 'confidence': 1, 'four': 2, 'login': 6, 'wallet': 5, 'goal': 2, 'score': 3, 'power': 4, 'limit': 3, 'blessing': 1, 'art': 1, 'iam': 4, 'friends': 3, 'deep': 3, 'village': 4, 'med': 5, '2day': 4, 'spoil': 2, 'boytoy': 5, 'police': 4, 'smoke': 12, 'wylie': 1, 'ruin': 3, 'cold': 1, 'support': 5, 'provide': 1, 'technical': 2, 'mah': 2, 'btw': 3, 'wid': 6, '3g': 3, 'videophones': 2, 'videochat': 2, 'java': 2, 'dload': 2, 'noline': 2, 'rentl': 2, 'ip4': 3, '5we': 3, 'mother': 3, 'receipt': 3, 'respect': 3, 'correct': 5, 'weird': 1, 'mm': 3, 'hotel': 7, 'london': 4, 'ac': 3, 'hg': 1, 'apartment': 3, 'cabin': 3, 'boss': 4, 'bedroom': 4, 'mood': 4, 'sick': 3, 'purchase': 2, 'tag': 2, 'amount': 4, 'case': 6, 'request': 6, 'security': 2, '0': 4, 'del': 4, 'sae': 8, 'costa': 3, 'sol': 3, 'complimentary': 5, 'ppm': 3, 'usf': 5, 'stand': 4, 'role': 3, 'hostel': 3, 'download': 7, 'wine': 2, \"'ll\": 10, 'fall': 5, 'force': 1, 'unlimited': 9, 'especially': 1, 'fail': 2, '400': 4, 'battery': 1, 'low': 2, 'alex': 2, 'smth': 3, 'clear': 1, 'tht': 2, 'black': 2, 'weak': 3, 'nah': 2, 'allah': 2, 'second': 7, 'option': 1, 'tuition': 2, 'cheap': 5, 'beer': 2, 'prince': 2, 'jst': 4, 'convey': 3, 'track': 3, 'opinion': 3, 'write': 3, 'page': 2, 'burn': 2, 'tonite': 5, 'fancy': 7, 'area': 3, 'flirt': 2, 'dead': 3, 'mum': 7, 'aha': 4, 'register': 4, 'an': 4, '80062': 2, 'subscriber': 2, 'lover': 4, 'camcorder': 8, 'slowly': 3, 'library': 1, 'behind': 3, 'stupid': 1, 'dude': 6, 'pop': 6, 'date': 9, 'fullonsms.com': 3, 'missing': 9, 'lock': 1, 'regret': 2, 'nite': 4, 'exhaust': 1, 'study': 4, ';)': 5, 'seriously': 4, 'exact': 2, 'barely': 1, 'print': 1, 'specially': 5, 'o2': 4, 'worried': 5, 'sn': 1, 'spk': 2, 'vip': 2, 'announcement': 2, 'unable': 3, 're-schedule': 1, 'ref': 2, 'hide': 3, ':-(': 5, 'avoid': 2, 'excellent': 4, 'realize': 4, 'throat': 1, 'tired': 2, 'omw': 2, 'totally': 2, 'glad': 1, 'xx': 4, 'marry': 8, 'copy': 3, 'kerala': 2, '<': 3, '2003': 5, 'un-redeemed': 4, 'm.': 3, 'xavier': 1, '87077': 2, 'w45wq': 1, 'norm150p': 1, 'appointment': 1, 'hols': 2, 'silent': 3, 'research': 2, 'different': 4, 'carlos': 7, 'ass': 3, 'usual': 4, 'anybody': 2, ':-p': 3, 'wnt': 1, 'marriage': 4, 'dance': 1, 'basically': 1, 'semester': 5, 'small': 4, 'stock': 3, 'local': 5, 'teach': 3, 'ship': 1, 'holder': 5, 'pc': 5, 'http://www.e-tlp.co.uk/expressoffer': 1, 'hmm': 3, 'obviously': 1, 'connect': 3, 'rakhesh': 3, 'mo': 4, 'assume': 3, 'machan': 2, 'tuesday': 4, 'menu': 3, '80878': 1, '08715705022': 1, 'sing': 1, 'three': 2, 'master': 1, 'sale': 1, 'bb': 2, 'fly': 2, 'window': 1, 'tea': 3, 'laugh': 9, 'yest': 4, 'aint': 4, 'mall': 2, 'fight': 5, 'relation': 3, '25': 6, 'side': 3, 'effect': 2, 'weight': 2, 'loss': 3, 'gain': 3, 'bold': 1, 'torch': 1, 'helen': 3, 'secure': 2, 'sell': 5, 'bird': 1, 'thts': 2, 'eg': 4, 'outstanding': 1, '3510i': 2, 'deliveredtomorrow': 2, 'where': 2, 'wll': 1, 'official': 3, 'flag': 7, 'yer': 3, '84199': 3, 'tb': 1, 'remind': 2, 'geeee': 2, 'txtin': 2, 'hai': 1, 'doctor': 3, 'de': 3, 'buck': 1, 'thnk': 1, 'irritate': 2, 'imagine': 2, 'whom': 2, 'cell': 4, 'passionate': 1, 'sense': 5, 'tenerife': 3, 'cw25wx': 2, 'knw': 3, 'outta': 1, 'theatre': 2, 'snow': 8, 'build': 2, 'possible': 4, 'dint': 2, '200': 5, 'celebrate': 2, 'dress': 2, 'be': 4, 'it': 3, 'afraid': 1, 'figure': 4, 'star': 5, 'community': 1, 'major': 1, 'age': 4, 'recd': 2, 'sam': 2, 'eatin': 3, 'hill': 3, ':-d': 1, 'em': 4, 'pobox36504w45wq': 1, 'plenty': 3, 'alrite': 1, '08718738034': 5, 'various': 1, '8927307655': 1, 'pyatm': 2, 'attend': 1, 'hella': 2, 'usually': 1, 'okay': 6, 'meal': 2, 'rd': 3, 'surely': 1, 'dog': 5, 'wear': 1, \"did't\": 2, 'sunny': 3, 'crazy': 3, 'texted': 1, 'june': 2, 'bowl': 2, 'covid-19': 1, 'grant': 1, '–': 3, '2optout': 2, 'txtauction': 1, 'happiness': 2, 'shame': 1, 'flight': 5, 'butt': 2, 'application': 2, 'competition': 2, 'leona': 3, '20': 5, 'ave': 2, 'pretty': 4, 'ai': 1, 'process': 5, 'wud': 2, 'foot': 1, 'air': 1, 'inclusive': 3, 'www.comuk.net': 4, '3qxj9': 3, '08702840625': 3, 'girls': 2, 'father': 3, 'john': 3, 'joy': 3, 'ans': 2, 'grow': 2, 'face': 6, 'bitch': 3, 'remove': 7, 'italian': 3, 'voicemail': 2, 'handset': 3, 'press': 5, 'arcade': 4, 'setting': 3, 'waste': 1, 'completely': 4, 'form': 2, 'tcs': 1, 'vomit': 3, 'malaria': 1, 'self': 4, 'sigh': 1, 'bar': 3, '1500': 2, 'except': 1, 'hr': 3, 'vary': 1, 'calls': 2, '3mins': 2, 'rem': 1, 'reading': 4, 'bless': 3, 'wiv': 4, 'unsold': 3, 'reminder': 1, 'str': 1, 'fantastic': 4, 'tire': 3, 'fb': 3, '10am-7pm': 1, 'thursday': 1, 'pete': 3, 'interested': 1, 'website': 1, 'flash': 1, 'location': 3, 'beautiful': 6, 'cafe': 1, 'lovable': 4, 'character': 2, 'stylish': 1, 'l8r': 3, 'dial': 5, 'f1ve': 4, 't0day': 4, 'quick': 4, 'guide': 1, 'model': 3, 'miracle': 1, 'fever': 2, 'continue': 2, 'arrest': 1, 'rcvd': 2, 'hiya': 3, 'bath': 2, 'near': 6, 'fifteen': 1, 'mt': 1, 'contract': 5, '7044518857': 3, 'verify': 3, 'bl0cked': 3, 'pay2tmkyc': 2, 'strong': 1, 'hee': 2, 'city': 2, 'spree': 1, 'goodnight': 3, 'purity': 1, 'bluetooth': 1, 'normal': 3, 'forwarded': 2, 'buzz': 1, 'romantic': 3, 'paris': 2, 'almost': 4, 'condition': 3, 'def': 1, 'wah': 1, 'quality': 3, 'rule': 2, 'mite': 1, 'tariff': 3, 'mins': 2, 'advice': 1, 'vouchers': 1, 'pa.': 1, 'belly': 1, 'ho': 2, 'birth': 2, 'dnt': 4, 'bcums': 2, 'childish': 3, 'affection': 2, '60p': 2, '121': 2, 'damn': 2, 'bloomberg': 2, 'center': 3, 'fool': 2, 'mon': 2, 'christmas': 3, 'release': 2, 'willing': 2, '4u': 2, 'blind': 2, 'radio': 1, '08002888812': 1, 'tough': 2, 'msgs': 1, 'light': 4, 'gravity': 2, 'carefully': 2, 'ibiza': 1, '…': 3, 'straight': 1, 'subscription': 4, 'sky': 4, 'dark': 1, 'note': 2, 'flat': 2, 'gas': 6, 'aiya': 1, 'shuhui': 2, 'ignore': 2, 'feb': 3, 'ron': 2, 'captain': 1, 'idk': 1, 'key': 3, 'sooner': 1, 'mode': 2, 'dictionary': 2, 'gently': 2, 'interest': 2, 'euro2004': 1, 'jan': 2, 'solve': 1, 'found': 1, '10,000': 1, 'jess': 1, 'gorgeous': 1, 'brand': 1, '86021': 1, 'oredi': 3, 'bored': 1, '09050090044': 1, 'toclaim': 2, 'pobox334': 2, 'stockport': 2, 'sk38xh': 2, 'cost£1.50/pm': 2, 'max10mins': 2, 've': 4, 'clean': 2, 'warm': 3, 'respond': 3, 'lik': 2, 'l': 1, 'share': 2, 'shoot': 2, 'travel': 1, 'moral': 1, 'hv': 1, 'qatar': 2, 'pleasure': 1, 'eve': 5, 'k.k': 3, 'monday': 4, 'nxt': 2, 'vl': 1, 'eye': 1, 'airport': 2, 'bathe': 3, ';-)': 2, 'rest': 3, 'blank': 4, 'response': 3, 'pilate': 1, 'intro': 1, 'mummy': 2, 'yogasana': 1, 'kb': 1, 'jazz': 1, 'symbol': 3, 'laid': 1, 'dogging': 2, 'user': 3, 'http://www.urawinner.com': 3, 'relax': 1, 'jesus': 1, 'whenever': 3, 'somethin': 1, 'meetin': 2, 'shd': 1, 'idea': 2, 'polyph': 1, 'executive': 1, 'cat': 1, 'cheer': 1, 'mayb': 3, 'football': 1, 'apps': 1, 'ppl': 3, 'supply': 2, 'choice': 2, 'kallis': 1, 'loverboy': 1, 'queen': 1, 'news': 4, 'hang': 1, 'sugar': 2, 'bhk': 2, 'launch': 2, 'module': 1, 'concentrate': 2, 'trust': 1, 'tick': 3, 'meanwhile': 1, 'airtel': 5, 'mms': 2, 'site': 2, 'orchard': 1, 'beg': 1, 'picture': 3, 'midnight': 1, 'flower': 1, 'www.07781482378.com': 1, 'nd': 1, 'bright': 2, 'forum': 1, ']': 1, 'polyphonic': 1, 'otherwise': 2, 'tt': 1, 'fren': 1, 'sign': 1, 'salary': 1, 'il': 1, 'vikky': 2, 'nat': 1, 'favour': 2, 'moan': 1, 'forever': 2, 'blackberry': 1, 'group': 3, 'feeling': 1, 'milk': 1, 'bak': 1, 'rply': 1, 'cam': 1, '82242': 1, 'seat': 1, 'nimya': 1, 'envelope': 1, 'excite': 1, 'netcollex': 3, 'female': 2, '08700621170150p': 2, 'stress': 1, 'slept': 1, 'uncle': 1, 'canada': 1, '3d': 1, 'rise': 1, 'embarassed': 2, 'v.': 1, 'connection': 1, 'unusual': 1, 'lazy': 1, '87239': 1, 'removal': 1, '08708034412': 1, 'mr': 1, 'raise': 2, 'kill': 1, 'mumtaz': 4, 'property': 1, 'partner': 2, 'cud': 1, 'cbe': 1, '81303': 1, 'floor': 2, 'valentines': 1, 'lifetime': 1, 'do': 1, 'advance': 1, 'umma': 1, 'wherever': 1, 'island': 1, 'delhi': 3, 'lac': 1, 'awaiting': 2, '8th': 2, 'tap': 1, 'cute': 1, '542': 1, 'wtf': 1, 'ray': 2, 'merry': 1, 'mmm': 1, 'teacher': 1, 'career': 1, 'accident': 2, 'bother': 1, 'age16': 1, 'k52': 1, '6000': 1, 'callertune': 2, 'melle': 2, 'earn': 1, 'kano': 1, 'university': 1, 'pongal': 1, 'password': 2, 'pin': 1, '447801259231': 1, 'hopefully': 1, 'bishan': 2, 'becoz': 1}\n"
     ]
    },
    {
     "ename": "TypeError",
     "evalue": "'NoneType' object is not iterable",
     "output_type": "error",
     "traceback": [
      "\u001b[1;31m---------------------------------------------------------------------------\u001b[0m",
      "\u001b[1;31mTypeError\u001b[0m                                 Traceback (most recent call last)",
      "\u001b[1;32m~\\AppData\\Local\\Temp\\ipykernel_16728\\972890562.py\u001b[0m in \u001b[0;36m<module>\u001b[1;34m\u001b[0m\n\u001b[0;32m     24\u001b[0m \u001b[0mprint\u001b[0m\u001b[1;33m(\u001b[0m\u001b[0mword_counts\u001b[0m\u001b[1;33m)\u001b[0m\u001b[1;33m\u001b[0m\u001b[1;33m\u001b[0m\u001b[0m\n\u001b[0;32m     25\u001b[0m \u001b[0msorted_keys\u001b[0m \u001b[1;33m=\u001b[0m \u001b[0mlist\u001b[0m\u001b[1;33m(\u001b[0m\u001b[0mword_counts\u001b[0m\u001b[1;33m.\u001b[0m\u001b[0mkeys\u001b[0m\u001b[1;33m(\u001b[0m\u001b[1;33m)\u001b[0m\u001b[1;33m)\u001b[0m\u001b[1;33m.\u001b[0m\u001b[0msort\u001b[0m\u001b[1;33m(\u001b[0m\u001b[1;33m)\u001b[0m\u001b[1;33m\u001b[0m\u001b[1;33m\u001b[0m\u001b[0m\n\u001b[1;32m---> 26\u001b[1;33m \u001b[1;32mfor\u001b[0m \u001b[0mi\u001b[0m \u001b[1;32min\u001b[0m \u001b[0msorted_keys\u001b[0m\u001b[1;33m:\u001b[0m\u001b[1;33m\u001b[0m\u001b[1;33m\u001b[0m\u001b[0m\n\u001b[0m\u001b[0;32m     27\u001b[0m     \u001b[0mprint\u001b[0m\u001b[1;33m(\u001b[0m\u001b[0mi\u001b[0m\u001b[1;33m)\u001b[0m\u001b[1;33m\u001b[0m\u001b[1;33m\u001b[0m\u001b[0m\n\u001b[0;32m     28\u001b[0m \u001b[1;33m\u001b[0m\u001b[0m\n",
      "\u001b[1;31mTypeError\u001b[0m: 'NoneType' object is not iterable"
     ]
    }
   ],
   "source": [
    "# Imports\n",
    "import pandas as pd\n",
    "\n",
    "\n",
    "# Load data from sms_supervised_train.csv\n",
    "supervised_df = pd.read_csv('COMP30027_2025_asst1_data/sms_supervised_train.csv')\n",
    "supervised_df.head()\n",
    "\n",
    "# First, define the vocabulary -- create a dictionary for [word: count]\n",
    "word_counts = {}\n",
    "\n",
    "for text in supervised_df[\"textPreprocessed\"]:\n",
    "    # If text is empty, ignore it as it doesn't provide any learning data\n",
    "    if text == \"\":\n",
    "        print(\"found one\")\n",
    "    # Split text using space as delim\n",
    "    text = str(text)\n",
    "    words = text.split(\" \")\n",
    "    for word in words:\n",
    "        if word not in word_counts.keys():\n",
    "            word_counts[word] = 0\n",
    "        word_counts[word] += 1\n",
    "\n",
    "print(word_counts)\n",
    "sorted_keys = list(word_counts.keys()).sort()\n",
    "for i in sorted_keys:\n",
    "    print(i)\n",
    "    "
   ]
  },
  {
   "cell_type": "markdown",
   "metadata": {},
   "source": [
    "## 2. Supervised model evaluation"
   ]
  },
  {
   "cell_type": "code",
   "execution_count": null,
   "metadata": {
    "collapsed": true
   },
   "outputs": [],
   "source": []
  },
  {
   "cell_type": "markdown",
   "metadata": {},
   "source": [
    "## 3. Extending the model with semi-supervised training"
   ]
  },
  {
   "cell_type": "code",
   "execution_count": null,
   "metadata": {},
   "outputs": [],
   "source": []
  },
  {
   "cell_type": "markdown",
   "metadata": {},
   "source": [
    "## 4. Supervised model evaluation"
   ]
  },
  {
   "cell_type": "code",
   "execution_count": null,
   "metadata": {
    "collapsed": true
   },
   "outputs": [],
   "source": []
  }
 ],
 "metadata": {
  "kernelspec": {
   "display_name": "Python 3 (ipykernel)",
   "language": "python",
   "name": "python3"
  },
  "language_info": {
   "codemirror_mode": {
    "name": "ipython",
    "version": 3
   },
   "file_extension": ".py",
   "mimetype": "text/x-python",
   "name": "python",
   "nbconvert_exporter": "python",
   "pygments_lexer": "ipython3",
   "version": "3.9.13"
  }
 },
 "nbformat": 4,
 "nbformat_minor": 4
}
